{
  "nbformat": 4,
  "nbformat_minor": 0,
  "metadata": {
    "colab": {
      "name": "day5.ipynb",
      "provenance": [],
      "collapsed_sections": [],
      "mount_file_id": "1mNueA0YYO8w3CRFklZLJ6jrmzbCmnbPU",
      "authorship_tag": "ABX9TyNaw4DMceEMxnHJW7+wtNGY",
      "include_colab_link": true
    },
    "kernelspec": {
      "name": "python3",
      "display_name": "Python 3"
    },
    "accelerator": "GPU"
  },
  "cells": [
    {
      "cell_type": "markdown",
      "metadata": {
        "id": "view-in-github",
        "colab_type": "text"
      },
      "source": [
        "<a href=\"https://colab.research.google.com/github/tomaszpasternak94/dw_matrix_road_sign/blob/master/day5.ipynb\" target=\"_parent\"><img src=\"https://colab.research.google.com/assets/colab-badge.svg\" alt=\"Open In Colab\"/></a>"
      ]
    },
    {
      "cell_type": "code",
      "metadata": {
        "id": "V8LdnS8A-G6r",
        "colab_type": "code",
        "colab": {
          "base_uri": "https://localhost:8080/",
          "height": 176
        },
        "outputId": "baf25392-f18c-49dd-c837-9b2a5d4cfd7d"
      },
      "source": [
        "!pip install hyperopt"
      ],
      "execution_count": 1,
      "outputs": [
        {
          "output_type": "stream",
          "text": [
            "Requirement already satisfied: hyperopt in /usr/local/lib/python3.6/dist-packages (0.1.2)\n",
            "Requirement already satisfied: future in /usr/local/lib/python3.6/dist-packages (from hyperopt) (0.16.0)\n",
            "Requirement already satisfied: scipy in /usr/local/lib/python3.6/dist-packages (from hyperopt) (1.4.1)\n",
            "Requirement already satisfied: pymongo in /usr/local/lib/python3.6/dist-packages (from hyperopt) (3.10.1)\n",
            "Requirement already satisfied: networkx in /usr/local/lib/python3.6/dist-packages (from hyperopt) (2.4)\n",
            "Requirement already satisfied: six in /usr/local/lib/python3.6/dist-packages (from hyperopt) (1.12.0)\n",
            "Requirement already satisfied: tqdm in /usr/local/lib/python3.6/dist-packages (from hyperopt) (4.38.0)\n",
            "Requirement already satisfied: numpy in /usr/local/lib/python3.6/dist-packages (from hyperopt) (1.18.2)\n",
            "Requirement already satisfied: decorator>=4.3.0 in /usr/local/lib/python3.6/dist-packages (from networkx->hyperopt) (4.4.2)\n"
          ],
          "name": "stdout"
        }
      ]
    },
    {
      "cell_type": "code",
      "metadata": {
        "id": "OBFgOBOG__t3",
        "colab_type": "code",
        "colab": {
          "base_uri": "https://localhost:8080/",
          "height": 52
        },
        "outputId": "dd556e46-6b68-480e-b5a3-fd5d1f95e909"
      },
      "source": [
        "import pandas as pd\n",
        "import numpy as np\n",
        "import matplotlib.pyplot as plt\n",
        "from skimage import color, exposure\n",
        "\n",
        "import os\n",
        "import datetime\n",
        "\n",
        "import tensorflow as tf\n",
        "\n",
        "from tensorflow.keras.models import Sequential\n",
        "\n",
        "from tensorflow.keras.layers import Conv2D,MaxPool2D,Dense,Flatten,Dropout\n",
        "\n",
        "from tensorflow.keras.utils import to_categorical\n",
        "\n",
        "from sklearn.metrics import accuracy_score\n",
        "\n",
        "from hyperopt import hp, STATUS_OK, tpe, Trials, fmin\n",
        "#wizualizacja krzywych uczenia się\n",
        "%load_ext tensorboard "
      ],
      "execution_count": 13,
      "outputs": [
        {
          "output_type": "stream",
          "text": [
            "The tensorboard extension is already loaded. To reload it, use:\n",
            "  %reload_ext tensorboard\n"
          ],
          "name": "stdout"
        }
      ]
    },
    {
      "cell_type": "code",
      "metadata": {
        "id": "_XsW9UHoAPG2",
        "colab_type": "code",
        "colab": {
          "base_uri": "https://localhost:8080/",
          "height": 34
        },
        "outputId": "f47fe15a-a9fc-4cf6-c862-8d0ea666165d"
      },
      "source": [
        "cd '/content/drive/My Drive/Colab Notebooks/matrix/matrix_three/dw_matrix_road_sign'"
      ],
      "execution_count": 3,
      "outputs": [
        {
          "output_type": "stream",
          "text": [
            "/content/drive/My Drive/Colab Notebooks/matrix/matrix_three/dw_matrix_road_sign\n"
          ],
          "name": "stdout"
        }
      ]
    },
    {
      "cell_type": "code",
      "metadata": {
        "id": "bFKqVa2TC7bL",
        "colab_type": "code",
        "colab": {}
      },
      "source": [
        "train = pd.read_pickle('data/train.p')\n",
        "test = pd.read_pickle('data/test.p')\n",
        "\n",
        "X_train, y_train = train['features'], train['labels']\n",
        "X_test, y_test = test['features'], test['labels']"
      ],
      "execution_count": 0,
      "outputs": []
    },
    {
      "cell_type": "code",
      "metadata": {
        "id": "bPr1StLCDGT6",
        "colab_type": "code",
        "colab": {}
      },
      "source": [
        "if y_train.ndim == 1: y_train = to_categorical(y_train)\n",
        "if y_test.ndim == 1: y_test = to_categorical(y_test)\n",
        "\n",
        "input_shape = X_train.shape[1:]\n",
        "num_classes = y_train.shape[1]"
      ],
      "execution_count": 0,
      "outputs": []
    },
    {
      "cell_type": "code",
      "metadata": {
        "id": "dkgjD8f_DRYl",
        "colab_type": "code",
        "colab": {}
      },
      "source": [
        "def train_model(model, X_train, y_train, params_fit={}):    \n",
        "  model.compile(loss='categorical_crossentropy', optimizer = 'Adam', metrics= ['accuracy'])\n",
        " \n",
        " \n",
        "  logdir = os.path.join('logs',datetime.datetime.now().strftime('%Y%m%d-%H%M%S'))\n",
        "  tensorboard_callback = tf.keras.callbacks.TensorBoard(logdir, histogram_freq = 1)\n",
        "\n",
        "  model.fit(\n",
        "      X_train, \n",
        "      y_train,\n",
        "      batch_size = params_fit.get('batch_size',128),\n",
        "      epochs = params_fit.get('epochs',5),\n",
        "      verbose = params_fit.get('verbose',1),\n",
        "      validation_data = params_fit.get('validation_data',(X_train, y_train)),\n",
        "      callbacks = [tensorboard_callback]\n",
        "      \n",
        "      )\n",
        "  \n",
        "  return model\n",
        "\n",
        "\n",
        "def predict(model_trained, X_test, y_test, scoring = accuracy_score):\n",
        "  \n",
        "  y_test_norm = np.argmax(y_test, axis = 1)\n",
        "\n",
        "  y_pred_prob = model_trained.predict(X_test)\n",
        "  y_pred = np.argmax(y_pred_prob, axis = 1)\n",
        "\n",
        "  return scoring( y_test_norm, y_pred)"
      ],
      "execution_count": 0,
      "outputs": []
    },
    {
      "cell_type": "code",
      "metadata": {
        "id": "BiuEyrGIDgFv",
        "colab_type": "code",
        "colab": {}
      },
      "source": [
        "def get_cnn_v5(input_shape,num_classes):\n",
        "  return Sequential([\n",
        "\n",
        "      Conv2D(filters=32, kernel_size=(3,3), activation='relu', input_shape = input_shape), #warstwa konwolucyjna \n",
        "      Conv2D(filters=32, kernel_size=(3,3), activation='relu', input_shape = input_shape),\n",
        "      Conv2D(filters=64, kernel_size=(3,3), activation='relu', padding = 'same'), \n",
        "      MaxPool2D(),\n",
        "      Dropout(0.3),\n",
        "\n",
        "      Conv2D(filters=64, kernel_size=(3,3), activation='relu', padding = 'same'),      \n",
        "      Conv2D(filters=64, kernel_size=(3,3), activation='relu'), \n",
        "      MaxPool2D(),\n",
        "      Dropout(0.3),\n",
        "\n",
        "      Conv2D(filters=64, kernel_size=(3,3), activation='relu', padding = 'same'),\n",
        "      Conv2D(filters=128, kernel_size=(3,3), activation='relu'), \n",
        "      MaxPool2D(),\n",
        "      Dropout(0.3),\n",
        "\n",
        "\n",
        "      \n",
        "\n",
        "      Flatten(),\n",
        "\n",
        "      Dense(1024, activation='relu'),\n",
        "      Dropout(0.3),\n",
        "\n",
        "      Dense(1024, activation='relu'),\n",
        "      Dropout(0.3),\n",
        "\n",
        "      Dense(num_classes, activation='softmax'),\n",
        "\n",
        "      ])\n",
        "\n",
        "\n",
        "#train_and_predict(get_cnn_v5(input_shape,num_classes))"
      ],
      "execution_count": 0,
      "outputs": []
    },
    {
      "cell_type": "code",
      "metadata": {
        "id": "0IvqHfiCEDF0",
        "colab_type": "code",
        "colab": {
          "base_uri": "https://localhost:8080/",
          "height": 212
        },
        "outputId": "6ced802e-c7c2-4b74-e911-b757ef2fa4f9"
      },
      "source": [
        "model = get_cnn_v5(input_shape,num_classes)\n",
        "model_trained = train_model(model, X_train, y_train)\n",
        "\n",
        "predict(model_trained, X_test, y_test)"
      ],
      "execution_count": 32,
      "outputs": [
        {
          "output_type": "stream",
          "text": [
            "Epoch 1/5\n",
            "272/272 [==============================] - 20s 74ms/step - loss: 2.6035 - accuracy: 0.2582 - val_loss: 1.2227 - val_accuracy: 0.5982\n",
            "Epoch 2/5\n",
            "272/272 [==============================] - 20s 73ms/step - loss: 0.7279 - accuracy: 0.7573 - val_loss: 0.1861 - val_accuracy: 0.9375\n",
            "Epoch 3/5\n",
            "272/272 [==============================] - 20s 73ms/step - loss: 0.2680 - accuracy: 0.9168 - val_loss: 0.0862 - val_accuracy: 0.9733\n",
            "Epoch 4/5\n",
            "272/272 [==============================] - 20s 73ms/step - loss: 0.1510 - accuracy: 0.9551 - val_loss: 0.0574 - val_accuracy: 0.9814\n",
            "Epoch 5/5\n",
            "272/272 [==============================] - 20s 73ms/step - loss: 0.1117 - accuracy: 0.9672 - val_loss: 0.0276 - val_accuracy: 0.9913\n"
          ],
          "name": "stdout"
        },
        {
          "output_type": "execute_result",
          "data": {
            "text/plain": [
              "0.9607709750566893"
            ]
          },
          "metadata": {
            "tags": []
          },
          "execution_count": 32
        }
      ]
    },
    {
      "cell_type": "code",
      "metadata": {
        "id": "-Ta-9puZFSA2",
        "colab_type": "code",
        "colab": {
          "base_uri": "https://localhost:8080/",
          "height": 52
        },
        "outputId": "497cdd85-8585-46ee-9fc9-82c19651cbe7"
      },
      "source": [
        "model_trained.evaluate(X_test, y_test)[0]"
      ],
      "execution_count": 11,
      "outputs": [
        {
          "output_type": "stream",
          "text": [
            "138/138 [==============================] - 1s 7ms/step - loss: 0.0979 - accuracy: 0.9773\n"
          ],
          "name": "stdout"
        },
        {
          "output_type": "execute_result",
          "data": {
            "text/plain": [
              "0.09787535667419434"
            ]
          },
          "metadata": {
            "tags": []
          },
          "execution_count": 11
        }
      ]
    },
    {
      "cell_type": "code",
      "metadata": {
        "id": "DSYEmF3SJk38",
        "colab_type": "code",
        "colab": {}
      },
      "source": [
        "def get_model(params):\n",
        "  return Sequential([\n",
        "\n",
        "      Conv2D(filters=32, kernel_size=(3,3), activation='relu', input_shape = input_shape), #warstwa konwolucyjna \n",
        "      Conv2D(filters=64, kernel_size=(3,3), activation='relu', padding = 'same'), \n",
        "      MaxPool2D(),\n",
        "      Dropout(params['dropout_cnn_block_one']),\n",
        "\n",
        "      Conv2D(filters=64, kernel_size=(3,3), activation='relu', padding = 'same'),\n",
        "      Conv2D(filters=64, kernel_size=(3,3), activation='relu'), \n",
        "      MaxPool2D(),\n",
        "      Dropout(params['dropout_cnn_block_two']),\n",
        "\n",
        "      Conv2D(filters=64, kernel_size=(3,3), activation='relu', padding = 'same'),\n",
        "      Conv2D(filters=128, kernel_size=(3,3), activation='relu'), \n",
        "      MaxPool2D(),\n",
        "      Dropout(params['dropout_cnn_block_three']),\n",
        "\n",
        "\n",
        "      \n",
        "\n",
        "      Flatten(),\n",
        "\n",
        "      Dense(1024, activation='relu'),\n",
        "      Dropout(params['dropout_dense_block_one']),\n",
        "\n",
        "      Dense(1024, activation='relu'),\n",
        "      Dropout(params['dropout_dense_block_two']),\n",
        "\n",
        "      Dense(num_classes, activation='softmax'),\n",
        "\n",
        "      ])\n",
        "\n",
        "\n",
        "#train_and_predict(get_cnn_v5(input_shape,num_classes))"
      ],
      "execution_count": 0,
      "outputs": []
    },
    {
      "cell_type": "code",
      "metadata": {
        "id": "73eik8nlEcV_",
        "colab_type": "code",
        "colab": {}
      },
      "source": [
        "def func_obj(params):\n",
        "  model = get_model(params)\n",
        "  model.compile(loss='categorical_crossentropy', optimizer = 'Adam', metrics= ['accuracy'])\n",
        "  \n",
        "  \n",
        "  model.fit(\n",
        "      X_train, \n",
        "      y_train, \n",
        "      batch_size = int(params.get('batch_size',128)), \n",
        "      epochs = 5,\n",
        "      verbose = 0\n",
        "      )\n",
        "    \n",
        "  score = model.evaluate(X_test, y_test, verbose=0)\n",
        "  accuracy = score[1]\n",
        "  print(params, 'accuracy={}'.format(accuracy))\n",
        "    \n",
        "  return {'loss':-accuracy, 'status': STATUS_OK, 'model':model}\n"
      ],
      "execution_count": 0,
      "outputs": []
    },
    {
      "cell_type": "code",
      "metadata": {
        "id": "zwTULIZaGOCD",
        "colab_type": "code",
        "colab": {
          "base_uri": "https://localhost:8080/",
          "height": 1000
        },
        "outputId": "9ff70fc7-862b-4055-bcc9-7ca467b39378"
      },
      "source": [
        "space = {\n",
        "    'batch_size':hp.quniform('batch_size',100,200,10),\n",
        "    'dropout_cnn_block_one' : hp.uniform('dropout_cnn_block_one',0.3, 0.5),\n",
        "    'dropout_cnn_block_two' : hp.uniform('dropout_cnn_block_two',0.3, 0.5),\n",
        "    'dropout_cnn_block_three' : hp.uniform('dropout_cnn_block_three',0.3, 0.5),\n",
        "\n",
        "    'dropout_dense_block_one' : hp.uniform('dropout_dense_block_one',0.3, 0.7),\n",
        "    'dropout_dense_block_two' : hp.uniform('dropout_dense_block_two',0.3, 0.7),\n",
        "\n",
        "\n",
        "}\n",
        "\n",
        "best = fmin(\n",
        "    func_obj,\n",
        "    space,\n",
        "    tpe.suggest,\n",
        "    30,\n",
        "    Trials()\n",
        ")"
      ],
      "execution_count": 26,
      "outputs": [
        {
          "output_type": "stream",
          "text": [
            "{'batch_size': 140.0, 'dropout_cnn_block_one': 0.31718179263426266, 'dropout_cnn_block_three': 0.4635275441526284, 'dropout_cnn_block_two': 0.3471967240869176, 'dropout_dense_block_one': 0.5883392519545098, 'dropout_dense_block_two': 0.4119393108228791}\n",
            "accuracy=0.9566893577575684\n",
            "{'batch_size': 130.0, 'dropout_cnn_block_one': 0.3041380161024805, 'dropout_cnn_block_three': 0.4784448863213524, 'dropout_cnn_block_two': 0.36351592778267333, 'dropout_dense_block_one': 0.3318777341234569, 'dropout_dense_block_two': 0.3437165789769888}\n",
            "accuracy=0.9632652997970581\n",
            "{'batch_size': 130.0, 'dropout_cnn_block_one': 0.38688184628110217, 'dropout_cnn_block_three': 0.4296648759143866, 'dropout_cnn_block_two': 0.48478133292252523, 'dropout_dense_block_one': 0.3814959184799309, 'dropout_dense_block_two': 0.3931045989905098}\n",
            "accuracy=0.9308390021324158\n",
            "{'batch_size': 140.0, 'dropout_cnn_block_one': 0.4845488800031574, 'dropout_cnn_block_three': 0.4438676700087306, 'dropout_cnn_block_two': 0.49145807976126865, 'dropout_dense_block_one': 0.6136980342888367, 'dropout_dense_block_two': 0.389167082137593}\n",
            "accuracy=0.7879818677902222\n",
            "{'batch_size': 120.0, 'dropout_cnn_block_one': 0.4233497965124846, 'dropout_cnn_block_three': 0.4373267412201466, 'dropout_cnn_block_two': 0.316363974106734, 'dropout_dense_block_one': 0.5230374109083733, 'dropout_dense_block_two': 0.561252121152862}\n",
            "accuracy=0.9521542191505432\n",
            "{'batch_size': 110.0, 'dropout_cnn_block_one': 0.48963594462304794, 'dropout_cnn_block_three': 0.30629103529285745, 'dropout_cnn_block_two': 0.3045819531278095, 'dropout_dense_block_one': 0.5538727528574825, 'dropout_dense_block_two': 0.6508811864844515}\n",
            "accuracy=0.9514739513397217\n",
            "{'batch_size': 180.0, 'dropout_cnn_block_one': 0.46388204349780754, 'dropout_cnn_block_three': 0.38194940185355886, 'dropout_cnn_block_two': 0.35229687721660036, 'dropout_dense_block_one': 0.4642126852720521, 'dropout_dense_block_two': 0.3016835555898837}\n",
            "accuracy=0.9448979496955872\n",
            "{'batch_size': 190.0, 'dropout_cnn_block_one': 0.4665475130697499, 'dropout_cnn_block_three': 0.49796982737792567, 'dropout_cnn_block_two': 0.3701599404452177, 'dropout_dense_block_one': 0.51801932780209, 'dropout_dense_block_two': 0.46830155028181986}\n",
            "accuracy=0.8768707513809204\n",
            "{'batch_size': 110.0, 'dropout_cnn_block_one': 0.3634738582489848, 'dropout_cnn_block_three': 0.4369539366155913, 'dropout_cnn_block_two': 0.42281122190025655, 'dropout_dense_block_one': 0.5153715812713489, 'dropout_dense_block_two': 0.654174255381621}\n",
            "accuracy=0.940816342830658\n",
            "{'batch_size': 120.0, 'dropout_cnn_block_one': 0.45960718522924265, 'dropout_cnn_block_three': 0.37569808423970436, 'dropout_cnn_block_two': 0.4186509883519088, 'dropout_dense_block_one': 0.6308563397905365, 'dropout_dense_block_two': 0.574245688817462}\n",
            "accuracy=0.9088435173034668\n",
            "{'batch_size': 120.0, 'dropout_cnn_block_one': 0.4580686839609088, 'dropout_cnn_block_three': 0.49295343488886845, 'dropout_cnn_block_two': 0.4182797620980271, 'dropout_dense_block_one': 0.48991842455081436, 'dropout_dense_block_two': 0.377608085713602}\n",
            "accuracy=0.9154195189476013\n",
            "{'batch_size': 200.0, 'dropout_cnn_block_one': 0.3885276423085052, 'dropout_cnn_block_three': 0.4919749313353846, 'dropout_cnn_block_two': 0.41861559364903655, 'dropout_dense_block_one': 0.573477618558079, 'dropout_dense_block_two': 0.5535392879552288}\n",
            "accuracy=0.8839002251625061\n",
            "{'batch_size': 110.0, 'dropout_cnn_block_one': 0.37635985893136914, 'dropout_cnn_block_three': 0.42889813546724226, 'dropout_cnn_block_two': 0.42355183896823806, 'dropout_dense_block_one': 0.37603958246818653, 'dropout_dense_block_two': 0.5683774737985097}\n",
            "accuracy=0.9469387531280518\n",
            "{'batch_size': 170.0, 'dropout_cnn_block_one': 0.49465137969878253, 'dropout_cnn_block_three': 0.4518695150850489, 'dropout_cnn_block_two': 0.4754928865499374, 'dropout_dense_block_one': 0.5698323231498138, 'dropout_dense_block_two': 0.6683465591933014}\n",
            "accuracy=0.7217687368392944\n",
            "{'batch_size': 170.0, 'dropout_cnn_block_one': 0.39158680027773496, 'dropout_cnn_block_three': 0.49807490086518774, 'dropout_cnn_block_two': 0.49143691885242663, 'dropout_dense_block_one': 0.6492192445983481, 'dropout_dense_block_two': 0.3999383972162368}\n",
            "accuracy=0.9353741407394409\n",
            "{'batch_size': 180.0, 'dropout_cnn_block_one': 0.4164277008617482, 'dropout_cnn_block_three': 0.353382078491895, 'dropout_cnn_block_two': 0.4264217205163006, 'dropout_dense_block_one': 0.3899564675064275, 'dropout_dense_block_two': 0.6597143529059818}\n",
            "accuracy=0.9133786559104919\n",
            "{'batch_size': 140.0, 'dropout_cnn_block_one': 0.34810528479911645, 'dropout_cnn_block_three': 0.33802047189694356, 'dropout_cnn_block_two': 0.4174820800378745, 'dropout_dense_block_one': 0.3127405970487984, 'dropout_dense_block_two': 0.4416758774797435}\n",
            "accuracy=0.9727891087532043\n",
            "{'batch_size': 130.0, 'dropout_cnn_block_one': 0.4799317809195313, 'dropout_cnn_block_three': 0.3848702929845927, 'dropout_cnn_block_two': 0.45210812277273377, 'dropout_dense_block_one': 0.6815512851353611, 'dropout_dense_block_two': 0.4861289930473113}\n",
            "accuracy=0.8979591727256775\n",
            "{'batch_size': 140.0, 'dropout_cnn_block_one': 0.4599338203892147, 'dropout_cnn_block_three': 0.48587080935428034, 'dropout_cnn_block_two': 0.3050169153420174, 'dropout_dense_block_one': 0.5671591081220537, 'dropout_dense_block_two': 0.5573340316976316}\n",
            "accuracy=0.9598639607429504\n",
            "{'batch_size': 190.0, 'dropout_cnn_block_one': 0.3612513020377319, 'dropout_cnn_block_three': 0.35075555235307027, 'dropout_cnn_block_two': 0.37563984944256884, 'dropout_dense_block_one': 0.357558708669003, 'dropout_dense_block_two': 0.5259854961714439}\n",
            "accuracy=0.9666666388511658\n",
            "{'batch_size': 160.0, 'dropout_cnn_block_one': 0.34515594222628687, 'dropout_cnn_block_three': 0.32053879142174474, 'dropout_cnn_block_two': 0.387872442936977, 'dropout_dense_block_one': 0.33805319844242926, 'dropout_dense_block_two': 0.4515470021074222}\n",
            "accuracy=0.9616780281066895\n",
            "{'batch_size': 150.0, 'dropout_cnn_block_one': 0.3370945580450778, 'dropout_cnn_block_three': 0.3372430048661136, 'dropout_cnn_block_two': 0.3930700223963159, 'dropout_dense_block_one': 0.43634242653092203, 'dropout_dense_block_two': 0.5093906391421639}\n",
            "accuracy=0.9650793671607971\n",
            "{'batch_size': 160.0, 'dropout_cnn_block_one': 0.3417845433934485, 'dropout_cnn_block_three': 0.3544265092080633, 'dropout_cnn_block_two': 0.46181766300453336, 'dropout_dense_block_one': 0.30087826179921906, 'dropout_dense_block_two': 0.5194588154976164}\n",
            "accuracy=0.9539682269096375\n",
            "{'batch_size': 200.0, 'dropout_cnn_block_one': 0.36249835648616036, 'dropout_cnn_block_three': 0.40994238560031293, 'dropout_cnn_block_two': 0.32657482883279854, 'dropout_dense_block_one': 0.42785886299919923, 'dropout_dense_block_two': 0.6043603555797572}\n",
            "accuracy=0.9628117680549622\n",
            "{'batch_size': 150.0, 'dropout_cnn_block_one': 0.323780255500025, 'dropout_cnn_block_three': 0.3070416828800512, 'dropout_cnn_block_two': 0.4429463871800657, 'dropout_dense_block_one': 0.31734422410637264, 'dropout_dense_block_two': 0.43645778679659186}\n",
            "accuracy=0.9648526310920715\n",
            "{'batch_size': 160.0, 'dropout_cnn_block_one': 0.4278290909462716, 'dropout_cnn_block_three': 0.3332371757307012, 'dropout_cnn_block_two': 0.4050716982206108, 'dropout_dense_block_one': 0.35984821026909103, 'dropout_dense_block_two': 0.6033399042894403}\n",
            "accuracy=0.9360544085502625\n",
            "{'batch_size': 190.0, 'dropout_cnn_block_one': 0.3572218252973034, 'dropout_cnn_block_three': 0.35876897784920464, 'dropout_cnn_block_two': 0.3818361812755331, 'dropout_dense_block_one': 0.42250286368034345, 'dropout_dense_block_two': 0.3047095411003537}\n",
            "accuracy=0.9612244963645935\n",
            "{'batch_size': 100.0, 'dropout_cnn_block_one': 0.3008222393589011, 'dropout_cnn_block_three': 0.4043553835248485, 'dropout_cnn_block_two': 0.33503201564909274, 'dropout_dense_block_one': 0.4070923507499224, 'dropout_dense_block_two': 0.3514824993410002}\n",
            "accuracy=0.9680272340774536\n",
            "{'batch_size': 140.0, 'dropout_cnn_block_one': 0.3003953789228631, 'dropout_cnn_block_three': 0.41132699656813493, 'dropout_cnn_block_two': 0.33269295162311835, 'dropout_dense_block_one': 0.30138607740160134, 'dropout_dense_block_two': 0.34611479144769974}\n",
            "accuracy=0.9657596349716187\n",
            "{'batch_size': 100.0, 'dropout_cnn_block_one': 0.3161580152560177, 'dropout_cnn_block_three': 0.4021494772384549, 'dropout_cnn_block_two': 0.40472948762489014, 'dropout_dense_block_one': 0.3998314268191083, 'dropout_dense_block_two': 0.4255913354337965}\n",
            "accuracy=0.9571428298950195\n",
            "100%|██████████| 30/30 [25:31<00:00, 51.05s/it, best loss: -0.9727891087532043]\n"
          ],
          "name": "stdout"
        }
      ]
    },
    {
      "cell_type": "code",
      "metadata": {
        "id": "R-7g7LpaH4i3",
        "colab_type": "code",
        "colab": {}
      },
      "source": [
        ""
      ],
      "execution_count": 0,
      "outputs": []
    }
  ]
}